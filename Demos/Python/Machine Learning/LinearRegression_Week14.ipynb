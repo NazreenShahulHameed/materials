{
  "nbformat": 4,
  "nbformat_minor": 0,
  "metadata": {
    "colab": {
      "provenance": [],
      "authorship_tag": "ABX9TyMgxXfKiYpqsdU3VLtv0hM4",
      "include_colab_link": true
    },
    "kernelspec": {
      "name": "python3",
      "display_name": "Python 3"
    },
    "language_info": {
      "name": "python"
    }
  },
  "cells": [
    {
      "cell_type": "markdown",
      "metadata": {
        "id": "view-in-github",
        "colab_type": "text"
      },
      "source": [
        "<a href=\"https://colab.research.google.com/github/DAPLearning2025/materials/blob/main/Week14_ML_SupervisedLearning_Linear_Regression.ipynb\" target=\"_parent\"><img src=\"https://colab.research.google.com/assets/colab-badge.svg\" alt=\"Open In Colab\"/></a>"
      ]
    },
    {
      "cell_type": "markdown",
      "source": [
        "#Simple Tour in ML"
      ],
      "metadata": {
        "id": "ydqzrHDtfxsU"
      }
    },
    {
      "cell_type": "markdown",
      "source": [
        "1. Intro to Supervised Learning\n",
        "\n",
        "**Features** **--->** Supervised Learning Model **--->** **Value to Predict**\n",
        "\n",
        "**Machine Learning** Computer algorithms that have the ability to learn without being explicitly programmed\n",
        "\n",
        "**Supervised Learning** The branch of ml where the computer learns how to perform a function by looking at labeled training data\n",
        "\n",
        "**Training: Data** --> **Supervised Learning Model** --> **Correct Output**\n",
        "\n",
        "**Testing: New Data** --> **Supervised Learning Model** --> **Predicted Value**\n",
        "\n",
        "**Type of Supervised Learning**\n",
        "*   Regression: Predicting continuous vales (e.g. house prices)\n",
        "*   Classification: Predicting categories (e.g spam vs. not spam)\n",
        "\n",
        "**What is Linear Regression?**\n",
        "\n",
        "Linear regression is one of the simplest forms of supervised learning. It is used to model the relationship between a dependent variable and one or more independent variables.\n",
        "\n",
        "Simple Linear Regression:\n",
        "\n",
        "Equation: Y = b + b1*X + e (Error)\n",
        "\n",
        "In other wrods,  Prediction = y-intercept + coefficient₁X₁ + coficient₂X₂ + … + coefficientiXi.\n",
        "\n",
        "Goal: Find the best-fitting line that minimizes the error between the predicted and actual values\n",
        "\n",
        "Visual Example:\n",
        "\n",
        "Imagine a scatter plot with data points forming a linear trend. Linear regression finds the line that best fits this trend.\n",
        "\n",
        "\n",
        "\n",
        "**Libraries**\n",
        "**NumPy:**\n",
        "*   Very efficient array and linear algebra functions\n",
        "*   Free and open source\n",
        "*   Widely used in the industry\n",
        "*   The foundation on which other ML libraries are built\n",
        "\n",
        "**Scikit-learn:**\n",
        "*   Machine Learning library for Python\n",
        "*   Free and open source\n",
        "*   Widely used in the industry\n",
        "*   Implements many standard machine learning algorithms\n",
        "*   Free and open source\n",
        "\n",
        "**Pandas:**\n",
        "*   Makes it easy to load and work with large data sets similar to a spreadsheet.\n",
        "*   Free and open source\n",
        "*   Widely used in the industry\n",
        "*   Short for \"panel data\"\n",
        "\n",
        "These libraries work together perfectly.\n",
        "\n",
        "NumPy --> provides the basic ability to load and work with a dataset\n",
        "\n",
        "Pandas --> provides the extra capabilities to make it easy to clean up and do calculations on the dataset.\n",
        "\n",
        "Sckit-learn --> provides the actual machine learning algorithms we'll run on the data.\n",
        "\n",
        "\n",
        "**Demo** --> Linear regression as a machine learning problem. Mean Square Error (MSE) as loss function. Interpreting the results of a regresion analysis. R^2 for evaluating regression models.\n",
        "\n",
        "**General Process to build ML Model**\n",
        "\n",
        "1.   Define the problem\n",
        "2.   Ask, does ML neem to be build to solve the problem\n",
        "3.   Do you have the data (Relative data)\n",
        "4.   Explore the dataset (Use pandas or any powerful library)\n",
        "5.   Prepare the data for training and testing phases\n",
        "6.   Evaluate your model\n",
        "7.   Does your approach matter? Did you reach your goal?  \n",
        "\n",
        "\n",
        "\n"
      ],
      "metadata": {
        "id": "GZeW3cXb-BM6"
      }
    },
    {
      "cell_type": "markdown",
      "source": [
        "# Regression Models"
      ],
      "metadata": {
        "id": "WPCdR-qVkB7B"
      }
    },
    {
      "cell_type": "code",
      "source": [
        "#Libraries\n",
        "import pandas as pd\n",
        "import numpy as np\n",
        "import matplotlib.pyplot as plt\n",
        "import seaborn as sns\n",
        "\n",
        "from sklearn.linear_model import LinearRegression\n",
        "from sklearn.metrics import r2_score, mean_squared_error"
      ],
      "metadata": {
        "id": "e8O__8ATkLBe"
      },
      "execution_count": null,
      "outputs": []
    },
    {
      "cell_type": "code",
      "source": [
        "#read data from github path\n",
        "github_url = r'https://raw.githubusercontent.com/DAPLearning2025/materials/refs/heads/main/Resources%20%26%20Data/auto-mpg.csv'\n",
        "df=pd.read_csv(github_url, header=0)\n",
        "df.head()"
      ],
      "metadata": {
        "id": "113DuRY9lS5f"
      },
      "execution_count": null,
      "outputs": []
    },
    {
      "cell_type": "code",
      "source": [
        "#Handle the dataset\n",
        "#Finding missing values\n",
        "df.isnull().sum()"
      ],
      "metadata": {
        "id": "zaYfDdFprcQU"
      },
      "execution_count": null,
      "outputs": []
    },
    {
      "cell_type": "markdown",
      "source": [
        "**Missing Values**: missing data can lead to a reduced sample size, introduce bias, and distort the model's estimates"
      ],
      "metadata": {
        "id": "eOu_q2qGxZf6"
      }
    },
    {
      "cell_type": "code",
      "source": [
        "#Using horspower as feature and deletting the null values\n",
        "df.dropna(inplace=True)\n",
        "df.isnull().sum()"
      ],
      "metadata": {
        "id": "cUC-B8uhriNa"
      },
      "execution_count": null,
      "outputs": []
    },
    {
      "cell_type": "code",
      "source": [
        "#Discovering columns and data type for each field\n",
        "df.info()"
      ],
      "metadata": {
        "id": "IT3RfS9tG8YM"
      },
      "execution_count": null,
      "outputs": []
    },
    {
      "cell_type": "markdown",
      "source": [
        "#Find which features have a linear relatioship with target value - mpg"
      ],
      "metadata": {
        "id": "YjEqILh_JYDx"
      }
    },
    {
      "cell_type": "code",
      "source": [
        "list(df.columns[1:])\n"
      ],
      "metadata": {
        "id": "Hq_T3M2WJmIU"
      },
      "execution_count": null,
      "outputs": []
    },
    {
      "cell_type": "code",
      "source": [
        "all_features = list(df.columns[1:])\n",
        "\n",
        "for feature in all_features:\n",
        "  sns.relplot(data = df, y = feature, x = 'mpg', kind='line', height=5, aspect=1)"
      ],
      "metadata": {
        "id": "0XwO5KsSJgiG"
      },
      "execution_count": null,
      "outputs": []
    },
    {
      "cell_type": "code",
      "source": [
        "original_cols = df.columns\n",
        "# Visualize again to see if outliers were removed.\n",
        "sns.pairplot(df)"
      ],
      "metadata": {
        "id": "yuBQTFKUKqrq"
      },
      "execution_count": null,
      "outputs": []
    },
    {
      "cell_type": "markdown",
      "source": [
        "# Started the process using 1, 2, 3, then all features step by step"
      ],
      "metadata": {
        "id": "4F1bH8O5K4Mg"
      }
    },
    {
      "cell_type": "code",
      "source": [
        "#We will start using features and compare models based on training & testing score and R squard\n",
        "tracking_features = {\n",
        "    \"features\":[],\n",
        "    \"training_score\":[],\n",
        "    \"R_squared\":[],\n",
        "    \"mse\":[]\n",
        "}\n"
      ],
      "metadata": {
        "id": "dtxjk3d9HC7o"
      },
      "execution_count": null,
      "outputs": []
    },
    {
      "cell_type": "markdown",
      "source": [
        "`R-squared (R²)`: it measures how well the regression model fits the observed data. The R2 score ranges from 0 to 1, where 0 indicates that the model does not explain any of the variability in the dependent variable, and 1 indicates that the model perfectly predicts the dependent variable. R2 score is also called “coeffecient of determination” or “goodness of fit”.\n",
        "\n",
        "`Mean Squared Error (MSE)`:This is a measure of the average squared difference between the predicted and actual values. A lower MSE indicates a better model fit"
      ],
      "metadata": {
        "id": "Jqq73vqbIofM"
      }
    },
    {
      "cell_type": "code",
      "source": [
        "#Wanted to plot data and see the realtionship between mpg and horsepower\n",
        "feature1='horsepower' # first feature\n",
        "sns.scatterplot(data=df, x='horsepower', y='mpg');"
      ],
      "metadata": {
        "id": "QpP3rg8U17V9"
      },
      "execution_count": null,
      "outputs": []
    },
    {
      "cell_type": "code",
      "source": [
        "#using Lineaer Reg  for 1 feature. Split data for training & testing samples\n",
        "# The train_test_split function in scikit-learn automatically shuffles the data\n",
        "from sklearn.model_selection import train_test_split\n",
        "\n",
        "X=df[['horsepower']]\n",
        "y=df['mpg']\n",
        "\n",
        "x_train, x_test, y_train, y_test = train_test_split(X, y, test_size=0.2)"
      ],
      "metadata": {
        "id": "bMkXucx_lTCH"
      },
      "execution_count": null,
      "outputs": []
    },
    {
      "cell_type": "code",
      "source": [
        "x_train.sample(5)"
      ],
      "metadata": {
        "id": "JlAC3AM0pp4z"
      },
      "execution_count": null,
      "outputs": []
    },
    {
      "cell_type": "code",
      "source": [
        "# Calling the model\n",
        "from sklearn.linear_model import LinearRegression\n",
        "linear_model=LinearRegression() #calling linear reg\n",
        "linear_model.fit(x_train, y_train) # feeding the training data"
      ],
      "metadata": {
        "id": "mfGKCrh9pncu"
      },
      "execution_count": null,
      "outputs": []
    },
    {
      "cell_type": "code",
      "source": [
        "#R-square is a measure of how well our linear model captures the underlying variation in our training data\n",
        "print(f\"Training score(using %) is : \", end =\"\")\n",
        "horsepower_training_score=linear_model.score(x_train, y_train) * 100 # track the training score\n",
        "print(\"{0:.3f}\".format(horsepower_training_score))"
      ],
      "metadata": {
        "id": "x6hGu-wjpnf8"
      },
      "execution_count": null,
      "outputs": []
    },
    {
      "cell_type": "code",
      "source": [
        "y_pred = linear_model.predict(x_test)"
      ],
      "metadata": {
        "id": "5_A4Pyu3quRe"
      },
      "execution_count": null,
      "outputs": []
    },
    {
      "cell_type": "code",
      "source": [
        "from sklearn.metrics import r2_score\n",
        "\n",
        "testing_score = r2_score(y_test, y_pred) * 100 # tracking testing score\n",
        "print(f\"Testing score(using %) is : \", end =\"\")\n",
        "print(\"{0:.3f}\".format(testing_score))\n"
      ],
      "metadata": {
        "id": "kmDvqybZquTl"
      },
      "execution_count": null,
      "outputs": []
    },
    {
      "cell_type": "code",
      "source": [
        "# calculate mean squared error\n",
        "mse = mean_squared_error(y_test, y_pred)\n",
        "print(f\"Mean Squared Error (MSE)(using %) is : \", end =\"\")\n",
        "print(\"{0:.3f}\".format(mse))"
      ],
      "metadata": {
        "id": "E4v7XupvM-Ni"
      },
      "execution_count": null,
      "outputs": []
    },
    {
      "cell_type": "code",
      "source": [
        "#feeding dictionnary\n",
        "tracking_features[\"features\"].append(feature1)\n",
        "tracking_features[\"training_score\"].append(horsepower_training_score)\n",
        "tracking_features[\"R_squared\"].append(testing_score)\n",
        "tracking_features[\"mse\"].append(mse)\n",
        "tracking_features"
      ],
      "metadata": {
        "id": "NgCIg5LoNaKd"
      },
      "execution_count": null,
      "outputs": []
    },
    {
      "cell_type": "code",
      "source": [
        "fig, ax = plt.subplots(figsize=(12, 8))\n",
        "\n",
        "plt.scatter(x_test, y_test, color='black')\n",
        "plt.plot(x_test, y_pred, color='blue', linewidth=3)\n",
        "\n",
        "plt.xlabel('Horsepower')\n",
        "plt.ylabel('MPG')\n",
        "\n",
        "plt.show()"
      ],
      "metadata": {
        "id": "ZDTLfEaWquWu"
      },
      "execution_count": null,
      "outputs": []
    },
    {
      "cell_type": "code",
      "source": [
        "df.columns"
      ],
      "metadata": {
        "id": "_A80l2qswYwK"
      },
      "execution_count": null,
      "outputs": []
    },
    {
      "cell_type": "code",
      "source": [
        "#Using different feteaure\n",
        "feature2='weight'\n",
        "X=df[['weight']]\n",
        "y=df['mpg']\n",
        "x_train, x_test, y_train, y_test = train_test_split(X, y, test_size=0.2)\n",
        "\n",
        "linear_model=LinearRegression()\n",
        "linear_model.fit(x_train, y_train)\n",
        "training_score=linear_model.score(x_train, y_train) * 100\n",
        "print(f\"Training score(using %) is : \", end =\"\")\n",
        "print(\"{0:.3f}\".format(training_score))\n",
        "\n",
        "y_pred = linear_model.predict(x_test)\n",
        "testing_score = r2_score(y_test, y_pred) * 100\n",
        "print(f\"Testing score(using %) is : \", end =\"\")\n",
        "print(\"{0:.3f}\".format(testing_score))\n",
        "\n",
        "mse = mean_squared_error(y_test, y_pred)\n",
        "print(f\"Mean Squared Error (MSE)(using %) is : \", end =\"\")\n",
        "print(\"{0:.3f}\".format(mse))\n",
        "\n",
        "#adding to dictionnary\n",
        "tracking_features[\"features\"].append(feature2)\n",
        "tracking_features[\"training_score\"].append(training_score)\n",
        "tracking_features[\"R_squared\"].append(testing_score)\n",
        "tracking_features[\"mse\"].append(mse)\n",
        "tracking_features"
      ],
      "metadata": {
        "id": "Efqzb9kBquZk"
      },
      "execution_count": null,
      "outputs": []
    },
    {
      "cell_type": "code",
      "source": [
        "fig, ax = plt.subplots(figsize=(12, 8))\n",
        "\n",
        "plt.scatter(x_test, y_test, color='black')\n",
        "plt.plot(x_test, y_pred, color='blue', linewidth=3)\n",
        "\n",
        "plt.xlabel('weight')\n",
        "plt.ylabel('MPG')\n",
        "\n",
        "plt.show()"
      ],
      "metadata": {
        "id": "B58aZioq20uE"
      },
      "execution_count": null,
      "outputs": []
    },
    {
      "cell_type": "markdown",
      "source": [
        "#Using Multiple Features"
      ],
      "metadata": {
        "id": "ZXet-5OBuoKc"
      }
    },
    {
      "cell_type": "code",
      "source": [
        "#using multiple features\n",
        "#using 3 features at once\n",
        "feature3=\"horsepower, weight,displacement\"\n",
        "X=df[['horsepower', 'weight','displacement']]\n",
        "y=df['mpg']\n",
        "x_train, x_test, y_train, y_test = train_test_split(X, y, test_size=0.2)\n",
        "\n",
        "linear_model=LinearRegression()\n",
        "linear_model.fit(x_train, y_train)\n",
        "training_score=linear_model.score(x_train, y_train) * 100\n",
        "print(f\"Training score(using %) is : \", end =\"\")\n",
        "print(\"{0:.3f}\".format(training_score))\n",
        "\n",
        "y_pred = linear_model.predict(x_test)\n",
        "testing_score = r2_score(y_test, y_pred) * 100\n",
        "print(f\"Testing score(using %) is : \", end =\"\")\n",
        "print(\"{0:.3f}\".format(testing_score))\n",
        "\n",
        "mse = mean_squared_error(y_test, y_pred)\n",
        "print(f\"Mean Squared Error (MSE)(using %) is : \", end =\"\")\n",
        "print(\"{0:.3f}\".format(mse))\n",
        "\n",
        "#adding to dictionnary\n",
        "tracking_features[\"features\"].append(feature3)\n",
        "tracking_features[\"training_score\"].append(training_score)\n",
        "tracking_features[\"R_squared\"].append(testing_score)\n",
        "tracking_features[\"mse\"].append(mse)\n",
        "tracking_features"
      ],
      "metadata": {
        "id": "jPavJ12pquf0"
      },
      "execution_count": null,
      "outputs": []
    },
    {
      "cell_type": "code",
      "source": [
        "#w = weights or coefficients of the model (model parameters)\n",
        "predictors=x_train.columns\n",
        "coef=pd.Series(linear_model.coef_,predictors).sort_values()\n",
        "coef.plot(kind='bar', title='Modal Coefficients');"
      ],
      "metadata": {
        "id": "vRbxL1iblTEm"
      },
      "execution_count": null,
      "outputs": []
    },
    {
      "cell_type": "code",
      "source": [
        "print(coef)"
      ],
      "metadata": {
        "id": "6lSU__X7vRlS"
      },
      "execution_count": null,
      "outputs": []
    },
    {
      "cell_type": "code",
      "source": [
        "#Let's plot our foundings\n",
        "plt.figure(figsize=(20,10))\n",
        "\n",
        "plt.plot(y_pred, label='Predicted')\n",
        "plt.plot(y_test.values, label='Actual')\n",
        "plt.ylabel('MPG')\n",
        "\n",
        "plt.legend()\n",
        "plt.show()"
      ],
      "metadata": {
        "id": "6oYZx7Npv_Gz"
      },
      "execution_count": null,
      "outputs": []
    },
    {
      "cell_type": "code",
      "source": [
        "#adding more features to our model\n",
        "feature4=\"horsepower, weight,displacement, acceleration\"\n",
        "X=df[['horsepower', 'weight','displacement','acceleration']]\n",
        "y=df['mpg']\n",
        "x_train, x_test, y_train, y_test = train_test_split(X, y, test_size=0.2)\n",
        "\n",
        "\n",
        "linear_model=LinearRegression()\n",
        "linear_model.fit(x_train, y_train)\n",
        "training_score=linear_model.score(x_train, y_train) * 100\n",
        "print(f\"Training score(using %) is : \", end =\"\")\n",
        "print(\"{0:.3f}\".format(training_score))\n",
        "\n",
        "y_pred = linear_model.predict(x_test)\n",
        "testing_score = r2_score(y_test, y_pred) * 100\n",
        "print(f\"Testing score(using %) is : \", end =\"\")\n",
        "print(\"{0:.3f}\".format(testing_score))\n",
        "\n",
        "mse = mean_squared_error(y_test, y_pred)\n",
        "print(f\"Mean Squared Error (MSE)(using %) is : \", end =\"\")\n",
        "print(\"{0:.3f}\".format(mse))\n",
        "\n",
        "#adding to dictionnary\n",
        "tracking_features[\"features\"].append(feature4)\n",
        "tracking_features[\"training_score\"].append(training_score)\n",
        "tracking_features[\"R_squared\"].append(testing_score)\n",
        "tracking_features[\"mse\"].append(mse)\n",
        "tracking_features"
      ],
      "metadata": {
        "id": "DPQSJCC0v_Jf"
      },
      "execution_count": null,
      "outputs": []
    },
    {
      "cell_type": "code",
      "source": [
        "predictors=x_train.columns\n",
        "coef=pd.Series(linear_model.coef_,predictors).sort_values()\n",
        "coef.plot(kind='bar', title='Modal Coefficients')"
      ],
      "metadata": {
        "id": "kNiWu1vJvRqA"
      },
      "execution_count": null,
      "outputs": []
    },
    {
      "cell_type": "code",
      "source": [
        "print(coef)"
      ],
      "metadata": {
        "id": "ZSC2ZnPBvRrj"
      },
      "execution_count": null,
      "outputs": []
    },
    {
      "cell_type": "code",
      "source": [
        "#Let's plot our foundings\n",
        "plt.figure(figsize=(20,10))\n",
        "\n",
        "plt.plot(y_pred, label='Predicted')\n",
        "plt.plot(y_test.values, label='Actual')\n",
        "plt.ylabel('MPG')\n",
        "\n",
        "plt.legend()\n",
        "plt.show()"
      ],
      "metadata": {
        "id": "ySiMR_rxw0BU"
      },
      "execution_count": null,
      "outputs": []
    },
    {
      "cell_type": "code",
      "source": [
        "# Add all the features\n",
        "featureAll=\"All relative fields\"\n",
        "X=df.drop('mpg', axis=1)\n",
        "y=df['mpg']\n",
        "x_train, x_test, y_train, y_test = train_test_split(X, y, test_size=0.2)\n",
        "\n",
        "linear_model=LinearRegression()\n",
        "linear_model.fit(x_train, y_train)\n",
        "training_score=linear_model.score(x_train, y_train) * 100\n",
        "print(f\"Training score(using %) is : \", end =\"\")\n",
        "print(\"{0:.3f}\".format(training_score))\n",
        "\n",
        "y_pred = linear_model.predict(x_test)\n",
        "testing_score = r2_score(y_test, y_pred) * 100\n",
        "print(f\"Testing score(using %) is : \", end =\"\")\n",
        "print(\"{0:.3f}\".format(testing_score))\n",
        "\n",
        "mse = mean_squared_error(y_test, y_pred)\n",
        "print(f\"Mean Squared Error (MSE)(using %) is : \", end =\"\")\n",
        "print(\"{0:.3f}\".format(mse))\n",
        "\n",
        "#adding to dictionnary\n",
        "tracking_features[\"features\"].append(featureAll)\n",
        "tracking_features[\"training_score\"].append(training_score)\n",
        "tracking_features[\"R_squared\"].append(testing_score)\n",
        "tracking_features[\"mse\"].append(mse)\n",
        "tracking_features\n"
      ],
      "metadata": {
        "id": "qfu5nNt1w0EI"
      },
      "execution_count": null,
      "outputs": []
    },
    {
      "cell_type": "code",
      "source": [
        "linear_model=LinearRegression()\n",
        "linear_model.fit(x_train, y_train)\n",
        "print(\"Training score: \", linear_model.score(x_train, y_train))\n",
        "print(\"Testing score: \", linear_model.score(x_test, y_test))\n",
        "predictors=x_train.columns\n",
        "coef=pd.Series(linear_model.coef_,predictors).sort_values()\n",
        "\n",
        "y_pred=linear_model.predict(x_test)\n",
        "print(\"Testing score: \", r2_score(y_test, y_pred))\n",
        "\n",
        "coef.plot(kind='bar', title='Modal Coefficients')"
      ],
      "metadata": {
        "id": "HvRYEdB7w0HT"
      },
      "execution_count": null,
      "outputs": []
    },
    {
      "cell_type": "code",
      "source": [
        "#Let's plot our foundings\n",
        "plt.figure(figsize=(20,10))\n",
        "\n",
        "plt.plot(y_pred, label='Predicted')\n",
        "plt.plot(y_test.values, label='Actual')\n",
        "plt.ylabel('MPG')\n",
        "\n",
        "plt.legend()\n",
        "plt.show()"
      ],
      "metadata": {
        "id": "gXBOxoz4xoAO"
      },
      "execution_count": null,
      "outputs": []
    },
    {
      "cell_type": "code",
      "source": [
        "#compare data in the dictionnary\n",
        "df_tracking=pd.DataFrame(tracking_features)\n",
        "df_tracking"
      ],
      "metadata": {
        "id": "zNoAheQwQTXD"
      },
      "execution_count": null,
      "outputs": []
    },
    {
      "cell_type": "code",
      "source": [
        "df.columns"
      ],
      "metadata": {
        "id": "UPQdKENQ0kQ9"
      },
      "execution_count": null,
      "outputs": []
    },
    {
      "cell_type": "markdown",
      "source": [
        "#Saving and exporting our model for future use."
      ],
      "metadata": {
        "id": "4qfGcOzcMdOE"
      }
    },
    {
      "cell_type": "code",
      "source": [
        "import pickle\n",
        "\n",
        "# NAME YOUR MODEL\n",
        "filename = 'mpg_model.pkl'\n",
        "\n",
        "# EXPORT AND SAVE YOUR MODEL USING YOUR FILENAME\n",
        "pickle.dump(linear_model, open(filename, 'wb'))"
      ],
      "metadata": {
        "id": "qm9lrUN-L01r"
      },
      "execution_count": null,
      "outputs": []
    },
    {
      "cell_type": "code",
      "source": [
        "x_test"
      ],
      "metadata": {
        "id": "tHD_Tc_BNx4B"
      },
      "execution_count": null,
      "outputs": []
    },
    {
      "cell_type": "code",
      "source": [
        "#How to load our model for future use\n",
        "model = pickle.load(open(filename, 'rb'))\n",
        "\n",
        "#How to use our model to predict\n",
        "model.predict(x_test)\n"
      ],
      "metadata": {
        "id": "npGlW7niM0BY"
      },
      "execution_count": null,
      "outputs": []
    }
  ]
}
